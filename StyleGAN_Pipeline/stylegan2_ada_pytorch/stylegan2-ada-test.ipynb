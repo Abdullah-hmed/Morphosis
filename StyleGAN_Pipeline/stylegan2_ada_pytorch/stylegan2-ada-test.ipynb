{
 "cells": [
  {
   "cell_type": "code",
   "execution_count": 1,
   "metadata": {},
   "outputs": [
    {
     "name": "stderr",
     "output_type": "stream",
     "text": [
      "Processing:   0%|          | 0/1 [00:00<?, ?it/s]/home/zack/.local/lib/python3.10/site-packages/face_crop_plus/utils.py:264: UserWarning: Could not read the image ../experiment/data/me.jpg:Zone.Identifier\n",
      "  warnings.warn(f\"Could not read the image {path}\")\n",
      "Processing: 100%|██████████| 1/1 [00:37<00:00, 37.28s/it]\n"
     ]
    }
   ],
   "source": [
    "from face_crop_plus import Cropper\n",
    "\n",
    "cropper = Cropper(face_factor=0.7, strategy=\"largest\", padding= \"replicate\")\n",
    "cropper.process_dir(input_dir=\"../experiment/data\")\n"
   ]
  },
  {
   "cell_type": "code",
   "execution_count": 8,
   "metadata": {},
   "outputs": [
    {
     "name": "stdout",
     "output_type": "stream",
     "text": [
      "python3: can't open file '/home/zack/Programs/FYP-Related/stylegan2-ada-pytorch/scripts/inference.py': [Errno 2] No such file or directory\n"
     ]
    }
   ],
   "source": [
    "!python3 scripts/inference.py \\\n",
    "--exp_dir=../experiment \\\n",
    "--checkpoint_path=../experiment/checkpoint/psp_ffhq_encode.pt \\\n",
    "--data_path=../experiment/data/ \\\n",
    "--test_batch_size=1 \\\n",
    "--test_workers=4 \\\n",
    "--couple_outputs"
   ]
  }
 ],
 "metadata": {
  "kernelspec": {
   "display_name": "Python 3",
   "language": "python",
   "name": "python3"
  },
  "language_info": {
   "codemirror_mode": {
    "name": "ipython",
    "version": 3
   },
   "file_extension": ".py",
   "mimetype": "text/x-python",
   "name": "python",
   "nbconvert_exporter": "python",
   "pygments_lexer": "ipython3",
   "version": "3.10.12"
  }
 },
 "nbformat": 4,
 "nbformat_minor": 2
}
