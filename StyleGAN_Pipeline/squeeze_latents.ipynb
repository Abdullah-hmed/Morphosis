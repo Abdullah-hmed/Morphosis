{
 "cells": [
  {
   "cell_type": "code",
   "execution_count": 3,
   "metadata": {},
   "outputs": [],
   "source": [
    "import os\n",
    "import numpy as np\n",
    "import torch"
   ]
  },
  {
   "cell_type": "code",
   "execution_count": 5,
   "metadata": {},
   "outputs": [
    {
     "data": {
      "text/plain": [
       "'cuda'"
      ]
     },
     "execution_count": 5,
     "metadata": {},
     "output_type": "execute_result"
    }
   ],
   "source": [
    "device = \"cuda\" if torch.cuda.is_available() else \"cpu\"\n",
    "device"
   ]
  },
  {
   "cell_type": "code",
   "execution_count": 6,
   "metadata": {},
   "outputs": [],
   "source": [
    "effect_latents_dict = {}"
   ]
  },
  {
   "cell_type": "code",
   "execution_count": 11,
   "metadata": {},
   "outputs": [],
   "source": [
    "current_dir = '.'"
   ]
  },
  {
   "cell_type": "code",
   "execution_count": 14,
   "metadata": {},
   "outputs": [],
   "source": [
    "def load_effect_latents():\n",
    "        effect_latents_directory = os.path.join(current_dir, 'nosqueeze')\n",
    "        \n",
    "        for filename in os.listdir(effect_latents_directory):\n",
    "            if filename.endswith('.npy'):\n",
    "                # Load name of file\n",
    "                name = os.path.splitext(filename)[0]\n",
    "\n",
    "                # Load latent vector\n",
    "                latent_path = os.path.join(effect_latents_directory, filename)\n",
    "                latent = np.load(latent_path)\n",
    "                # latent = torch.tensor(latent, device=device).squeeze(0)\n",
    "\n",
    "                effect_latents_dict[name] = latent\n",
    "        else:\n",
    "            print(f'Skipping loading {filename}')\n",
    "\n",
    "        for name, array in effect_latents_dict.items():\n",
    "            print(f\"Array '{name} shape: {array.shape}\")"
   ]
  },
  {
   "cell_type": "code",
   "execution_count": 13,
   "metadata": {},
   "outputs": [
    {
     "name": "stdout",
     "output_type": "stream",
     "text": [
      "Skipping loading chin_nosqueeze.npy\n",
      "Array 'honey_eyes_nosqueeze shape: torch.Size([18, 512])\n",
      "Array 'eyes_brown_nosqueeze shape: torch.Size([18, 512])\n",
      "Array 'eyes_blue_nosqueeze shape: torch.Size([18, 512])\n",
      "Array 'nose_nosqueeze shape: torch.Size([18, 512])\n",
      "Array 'lips_nosqueeze shape: torch.Size([18, 512])\n",
      "Array 'chin_nosqueeze shape: torch.Size([18, 512])\n"
     ]
    }
   ],
   "source": [
    "load_effect_latents()"
   ]
  }
 ],
 "metadata": {
  "kernelspec": {
   "display_name": "env",
   "language": "python",
   "name": "python3"
  },
  "language_info": {
   "codemirror_mode": {
    "name": "ipython",
    "version": 3
   },
   "file_extension": ".py",
   "mimetype": "text/x-python",
   "name": "python",
   "nbconvert_exporter": "python",
   "pygments_lexer": "ipython3",
   "version": "3.12.4"
  }
 },
 "nbformat": 4,
 "nbformat_minor": 2
}
